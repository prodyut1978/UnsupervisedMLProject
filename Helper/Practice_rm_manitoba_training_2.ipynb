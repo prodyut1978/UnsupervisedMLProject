{
 "cells": [
  {
   "cell_type": "code",
   "execution_count": null,
   "metadata": {},
   "outputs": [],
   "source": [
    "import pandas as pd\n",
    "import geopandas as gpd\n",
    "import matplotlib.pyplot as plt\n",
    "import xarray as xr\n",
    "import numpy as np\n",
    "from fuzzywuzzy import process\n",
    "\n"
   ]
  },
  {
   "cell_type": "code",
   "execution_count": null,
   "metadata": {},
   "outputs": [],
   "source": [
    "df_yield_raw=pd.read_excel('/Users/Roy/Desktop/PaletteSkills/Stream-3__AI_ML_Doc/Python_Class_Practice/data/rm_mb_yield_2004_2023_2.xlsx')\n",
    "gdf_rm=gpd.read_file('/Users/Roy/Desktop/PaletteSkills/Stream-3__AI_ML_Doc/Python_Class_Practice/data/MUNICIPALITY.geojson', engine=\"pyogrio\")\n",
    "\n",
    "# Dropping Unncesseary Columns\n",
    "df_yield_raw_1=df_yield_raw.drop(columns=['Variety', 'Yield/acre(Metric)', 'Yield/acre(Metric).1', 'Yield/acre(Imperial).1' ])\n",
    "\n",
    "# Creating new clean yield column\n",
    "df_yield_raw_1['Yield']=df_yield_raw_1['Yield/acre(Imperial)'].str.replace(' Bushels','')\n",
    "\n",
    "# Dropping old yield column\n",
    "df_yield_raw_2=df_yield_raw_1.drop(columns='Yield/acre(Imperial)')\n",
    "\n",
    "# Removing observations that have not enough values\n",
    "df_yield_raw_3=df_yield_raw_2.loc[df_yield_raw_2['Farms']!='Below']\n",
    "\n",
    "\n",
    "\n",
    "# Changing column names\n",
    "df_yield_raw_3=df_yield_raw_3.rename(columns={'Risk Area / R.M.': 'RM'})\n",
    "\n",
    "gdf_rm=gdf_rm.rename(columns={'MUNI_LIST_NAME': 'RM'})\n",
    "\n",
    "print(gdf_rm)\n",
    "\n",
    "\n",
    "\n",
    "# # Replacing , signs Yield and Acres Columns\n",
    "df_yield_raw_3['Yield']=df_yield_raw_3['Yield'].astype(str).str.replace(',','')\n",
    "df_yield_raw_3['Acres']=df_yield_raw_3['Acres'].astype(str).str.replace(',','')\n",
    "\n",
    "df_yield_raw_3['Yield'] = pd.to_numeric(df_yield_raw_3['Yield'], errors='coerce')\n",
    "df_yield_raw_3['Acres'] = pd.to_numeric(df_yield_raw_3['Acres'], errors='coerce')\n",
    "\n",
    "\n",
    "df_yield_raw_3['Yield']=df_yield_raw_3['Yield'].astype('Float64')\n",
    "df_yield_raw_3['Acres']=df_yield_raw_3['Acres'].astype('Float64')\n",
    "df_yield_raw_3['Farms']=df_yield_raw_3['Farms'].astype(int)\n",
    "\n",
    "df_yield_raw_3['Crop']=df_yield_raw_3['Crop'].astype('string')\n",
    "df_yield_raw_3['RM']=df_yield_raw_3['RM'].astype('string')\n",
    "df_yield_raw_3.info()"
   ]
  },
  {
   "cell_type": "code",
   "execution_count": 67,
   "metadata": {},
   "outputs": [
    {
     "name": "stdout",
     "output_type": "stream",
     "text": [
      "33975\n",
      "93\n",
      "Index(['Year', 'RM', 'Crop', 'Farms', 'Acres', 'Yield'], dtype='object')\n",
      "Index(['OBJECTID', 'MUNI_NO', 'MUNI_NAME', 'MUNI_TYPE', 'RM',\n",
      "       'MUNI_LIST_NAME_WITH_TYPE', 'geometry', 'Matched_RM', 'Match_Score'],\n",
      "      dtype='object')\n",
      "Index(['OBJECTID', 'MUNI_NO', 'MUNI_NAME', 'MUNI_TYPE', 'RM_x',\n",
      "       'MUNI_LIST_NAME_WITH_TYPE', 'geometry', 'Matched_RM', 'Match_Score',\n",
      "       'Year', 'RM_y', 'Crop', 'Farms', 'Acres', 'Yield'],\n",
      "      dtype='object')\n",
      "33720\n"
     ]
    }
   ],
   "source": [
    "\n",
    "def match_rms(rm, choices, limit=2):\n",
    "    \"\"\"Fuzzy match an RM name to the closest ones from a list of choices.\"\"\"\n",
    "    results = process.extract(rm, choices, limit=limit)\n",
    "    return results[0]  # Return the best match\n",
    "\n",
    "# List of RMs in df_yield_raw_3 to match against\n",
    "yield_rms = df_yield_raw_3['RM'].unique()\n",
    "\n",
    "# Apply fuzzy matching for RMs in gdf_rm that are not found in df_yield_raw_3\n",
    "gdf_rm['Matched_RM'] = gdf_rm['RM'].apply(lambda x: match_rms(x, yield_rms))\n",
    "\n",
    "# Now check the matched results and scores\n",
    "gdf_rm['Match_Score'] = gdf_rm['Matched_RM'].apply(lambda x: x[1])  # Get the match score\n",
    "gdf_rm['Matched_RM'] = gdf_rm['Matched_RM'].apply(lambda x: x[0])   # Get the actual matched RM name\n",
    "\n",
    "# Filter out low-confidence matches if needed (e.g., below 80% similarity)\n",
    "gdf_rm_filtered = gdf_rm[gdf_rm['Match_Score'] == 100]\n",
    "\n",
    "gdf_rm_filtered1 = gdf_rm_filtered[gdf_rm_filtered['Match_Score'] < 100]\n",
    "\n",
    "print(len(df_yield_raw_3))\n",
    "print(len(gdf_rm_filtered))\n",
    "\n",
    "print((df_yield_raw_3).columns)\n",
    "print((gdf_rm_filtered).columns)\n",
    "\n",
    "# Merge using the fuzzy matched RMs\n",
    "merged_df_fuzz = pd.merge(gdf_rm_filtered, df_yield_raw_3, left_on='Matched_RM', right_on='RM', how='left')\n",
    "\n",
    "print((merged_df_fuzz).columns)\n",
    "\n",
    "gdf_rm_yield=merged_df_fuzz[[ 'Matched_RM', 'Match_Score',\n",
    "       'Year', 'Crop', 'Farms', 'Acres', 'Yield','geometry']]\n",
    "\n",
    "print(len(gdf_rm_yield))\n",
    "\n"
   ]
  }
 ],
 "metadata": {
  "kernelspec": {
   "display_name": "Python 3",
   "language": "python",
   "name": "python3"
  },
  "language_info": {
   "codemirror_mode": {
    "name": "ipython",
    "version": 3
   },
   "file_extension": ".py",
   "mimetype": "text/x-python",
   "name": "python",
   "nbconvert_exporter": "python",
   "pygments_lexer": "ipython3",
   "version": "3.8.3"
  }
 },
 "nbformat": 4,
 "nbformat_minor": 2
}
